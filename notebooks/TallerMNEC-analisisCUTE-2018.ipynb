{
 "cells": [
  {
   "cell_type": "markdown",
   "metadata": {},
   "source": [
    "CUTE-Correlation Utilities Two-point Estimates\n"
   ]
  },
  {
   "cell_type": "code",
   "execution_count": 2,
   "metadata": {},
   "outputs": [],
   "source": [
    "%matplotlib inline\n",
    "import matplotlib\n",
    "import matplotlib.pyplot as plt\n",
    "import numpy as np\n",
    "\n",
    "import scipy"
   ]
  },
  {
   "cell_type": "markdown",
   "metadata": {},
   "source": [
    "Utilizando 2PCF 3D y el estimador Landy-Szalay\n",
    "\n",
    "Los archivos input utilizados: \n",
    "data_TallerMNEC.rdzw \n",
    "random_TallerMNEC.rdzw\n",
    "\n",
    "Después de obtener el output de CUTE: output_TallerMNEC.txt"
   ]
  },
  {
   "cell_type": "code",
   "execution_count": 3,
   "metadata": {},
   "outputs": [],
   "source": [
    "#leer el archivo output\n",
    "mu1, r1, xi1, xi_err1, DD1, DR1, RR1 = np.loadtxt('output_TallerMNEC.txt', usecols=(0, 1, 2, 3, 4, 5, 6), unpack=True)\n",
    "\n",
    "#leer el archivo input\n",
    "w_fkp_N = np.loadtxt('data_TallerMNEC.rdzw',skiprows=0, unpack=True, usecols=[3])\n",
    "Nd=sum(w_fkp_N)"
   ]
  },
  {
   "cell_type": "code",
   "execution_count": 4,
   "metadata": {},
   "outputs": [
    {
     "name": "stdout",
     "output_type": "stream",
     "text": [
      "0.2864646 2.874352 73.23721\n",
      "27437.4222065\n"
     ]
    }
   ],
   "source": [
    "print DD1[0],DR1[0],RR1[0]\n",
    "\n",
    "print Nd"
   ]
  },
  {
   "cell_type": "code",
   "execution_count": 5,
   "metadata": {},
   "outputs": [],
   "source": [
    "#leer del archivo random \n",
    "w_fkp_ran = np.loadtxt('random_TallerMNEC.rdzw',skiprows=0, unpack=True, usecols=[3])\n",
    "Nr=sum(w_fkp_ran)"
   ]
  },
  {
   "cell_type": "code",
   "execution_count": 7,
   "metadata": {},
   "outputs": [
    {
     "name": "stdout",
     "output_type": "stream",
     "text": [
      "1137729.50023\n"
     ]
    }
   ],
   "source": [
    "print Nr"
   ]
  },
  {
   "cell_type": "code",
   "execution_count": 8,
   "metadata": {},
   "outputs": [],
   "source": [
    "#Normalizamos DD1, DR1, RR1\n",
    "\n",
    "DD=(DD1)/(Nd*(Nd-1))\n",
    "RR=(RR1)/(Nr*(Nr-1))\n",
    "DR=(DR1)/(Nd*Nr)"
   ]
  },
  {
   "cell_type": "markdown",
   "metadata": {},
   "source": [
    "Calculamos Landy-Szalay"
   ]
  },
  {
   "cell_type": "code",
   "execution_count": 9,
   "metadata": {},
   "outputs": [],
   "source": [
    "LS=(DD-DR+RR)/RR"
   ]
  },
  {
   "cell_type": "code",
   "execution_count": 10,
   "metadata": {},
   "outputs": [
    {
     "name": "stdout",
     "output_type": "stream",
     "text": [
      "[  6.09839803e+00   4.01634437e+01  -9.36496354e-01 ...,  -1.10831689e-05\n",
      "  -3.42845962e-03  -6.39367158e-03]\n",
      "6.09839803048\n"
     ]
    }
   ],
   "source": [
    "print LS\n",
    "print LS[0]"
   ]
  },
  {
   "cell_type": "markdown",
   "metadata": {},
   "source": [
    "Ejercicio:\n",
    "Utilizando el output de CUTE calcular el multipolos. \n",
    "Graficar el monopolo y cuadrupolo."
   ]
  },
  {
   "cell_type": "markdown",
   "metadata": {},
   "source": [
    "Análisis con Multipolos"
   ]
  },
  {
   "cell_type": "code",
   "execution_count": 11,
   "metadata": {},
   "outputs": [
    {
     "data": {
      "image/png": "[encoded data removed]",
      "text/plain": [
       "<matplotlib.figure.Figure at 0xaea1686c>"
      ]
     },
     "metadata": {},
     "output_type": "display_data"
    }
   ],
   "source": [
    "#leer el archivo output de multipolos\n",
    "\n",
    "for i in range(100,102):\n",
    "    r, monop, cuad = np.loadtxt('data_TallerMNEC_0'+str(i)+'.mul', usecols=(0, 1, 2), unpack=True)\n",
    "    mono1=monop*(r**2)\n",
    "    cuad1=cuad*(r**2)\n",
    "    plt.plot(r, mono1, color='r')\n",
    "    #plt.plot(r, cuad1, color='r')\n",
    "    plt.title('monopolo')\n",
    "    plt.ylabel('$\\\\xi(\\mu)r^2$')\n",
    "    plt.xlabel('$r$')\n",
    "plt.show()\n",
    "    "
   ]
  }
 ],
 "metadata": {
  "kernelspec": {
   "display_name": "Python 2",
   "language": "python",
   "name": "python2"
  },
  "language_info": {
   "codemirror_mode": {
    "name": "ipython",
    "version": 2
   },
   "file_extension": ".py",
   "mimetype": "text/x-python",
   "name": "python",
   "nbconvert_exporter": "python",
   "pygments_lexer": "ipython2",
   "version": "2.7.13"
  }
 },
 "nbformat": 4,
 "nbformat_minor": 1
}
