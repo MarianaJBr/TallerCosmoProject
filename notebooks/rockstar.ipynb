{
 "cells": [
  {
   "cell_type": "markdown",
   "metadata": {},
   "source": [
    "# Uso de Rockstar"
   ]
  },
  {
   "cell_type": "markdown",
   "metadata": {},
   "source": [
    "### Cargamos las bibliotecas que necesitamos"
   ]
  },
  {
   "cell_type": "code",
   "execution_count": 1,
   "metadata": {
    "collapsed": true
   },
   "outputs": [],
   "source": [
    "import glob\n",
    "import math\n",
    "import sys\n",
    "import os\n",
    "\n",
    "import pandas as pd\n",
    "import numpy as np\n",
    "import numpy\n",
    "\n",
    "\n",
    "#%matplotlib notebook\n",
    "%matplotlib inline\n",
    "import matplotlib.pyplot as plt\n",
    "plt.style.use('classic')\n",
    "from matplotlib.ticker import AutoMinorLocator, MultipleLocator\n",
    "\n",
    "from IPython.display import display\n",
    "\n",
    "from scipy import interpolate"
   ]
  },
  {
   "cell_type": "markdown",
   "metadata": {},
   "source": [
    "### Catálogo de halos padre"
   ]
  },
  {
   "cell_type": "code",
   "execution_count": 2,
   "metadata": {
    "collapsed": false
   },
   "outputs": [
    {
     "name": "stdout",
     "output_type": "stream",
     "text": [
      "Analysing snapshot: z =  0\n",
      "LCDM - File to be analised: \n",
      "/home/ealmaraz/software/rockstar/lcdm/bfbdev3/part1024_lbox500/r_00001/output_00011/parents.dat\n",
      "The dataset has 1880378 parent haloes\n"
     ]
    },
    {
     "data": {
      "text/html": [
       "<div>\n",
       "<table border=\"1\" class=\"dataframe\">\n",
       "  <thead>\n",
       "    <tr style=\"text-align: right;\">\n",
       "      <th></th>\n",
       "      <th>M200c [Msun/h]</th>\n",
       "      <th>R200c [kpc/h]</th>\n",
       "      <th>Rs [kpc/h]</th>\n",
       "      <th>X [Mpc/h]</th>\n",
       "      <th>Y [Mpc/h]</th>\n",
       "      <th>Z [Mpc/h]</th>\n",
       "      <th>PID</th>\n",
       "    </tr>\n",
       "  </thead>\n",
       "  <tbody>\n",
       "    <tr>\n",
       "      <th>0</th>\n",
       "      <td>2.367000e+11</td>\n",
       "      <td>100.466</td>\n",
       "      <td>10.102</td>\n",
       "      <td>12.37477</td>\n",
       "      <td>4.60614</td>\n",
       "      <td>8.39578</td>\n",
       "      <td>-1</td>\n",
       "    </tr>\n",
       "    <tr>\n",
       "      <th>1</th>\n",
       "      <td>1.973000e+10</td>\n",
       "      <td>43.882</td>\n",
       "      <td>2.877</td>\n",
       "      <td>6.06610</td>\n",
       "      <td>2.25797</td>\n",
       "      <td>14.46326</td>\n",
       "      <td>-1</td>\n",
       "    </tr>\n",
       "    <tr>\n",
       "      <th>2</th>\n",
       "      <td>1.874000e+11</td>\n",
       "      <td>92.939</td>\n",
       "      <td>17.668</td>\n",
       "      <td>6.98714</td>\n",
       "      <td>7.69678</td>\n",
       "      <td>15.00067</td>\n",
       "      <td>-1</td>\n",
       "    </tr>\n",
       "    <tr>\n",
       "      <th>3</th>\n",
       "      <td>1.213000e+12</td>\n",
       "      <td>173.214</td>\n",
       "      <td>24.962</td>\n",
       "      <td>10.88314</td>\n",
       "      <td>5.52775</td>\n",
       "      <td>11.33124</td>\n",
       "      <td>-1</td>\n",
       "    </tr>\n",
       "    <tr>\n",
       "      <th>4</th>\n",
       "      <td>2.269000e+11</td>\n",
       "      <td>99.051</td>\n",
       "      <td>18.873</td>\n",
       "      <td>14.23499</td>\n",
       "      <td>3.46547</td>\n",
       "      <td>13.19376</td>\n",
       "      <td>-1</td>\n",
       "    </tr>\n",
       "  </tbody>\n",
       "</table>\n",
       "</div>"
      ],
      "text/plain": [
       "   M200c [Msun/h]  R200c [kpc/h]  Rs [kpc/h]  X [Mpc/h]  Y [Mpc/h]  Z [Mpc/h]  \\\n",
       "0    2.367000e+11        100.466      10.102   12.37477    4.60614    8.39578   \n",
       "1    1.973000e+10         43.882       2.877    6.06610    2.25797   14.46326   \n",
       "2    1.874000e+11         92.939      17.668    6.98714    7.69678   15.00067   \n",
       "3    1.213000e+12        173.214      24.962   10.88314    5.52775   11.33124   \n",
       "4    2.269000e+11         99.051      18.873   14.23499    3.46547   13.19376   \n",
       "\n",
       "   PID  \n",
       "0   -1  \n",
       "1   -1  \n",
       "2   -1  \n",
       "3   -1  \n",
       "4   -1  "
      ]
     },
     "execution_count": 2,
     "metadata": {},
     "output_type": "execute_result"
    }
   ],
   "source": [
    "Np    = 1024           #cube root of the number of particles\n",
    "Npart = Np**3\n",
    "Lbox  = 500.           #length of the box\n",
    "\n",
    "Mpart = 9.86379e+09    #mass of each particle (in M_sun/h units)\n",
    "Mmax  = 3.6e+15        #max Mass (used to define the mass bins)\n",
    "\n",
    "#snapshot directories (z:number_of_folder)\n",
    "z_dict   = {49:1, 2:2, 1.5:3, 1:4, 0.8:5, 0.57:6, 0.5:7, 0.4:8, 0.2:9, 0.1:10, 0:11}\n",
    "z_snap = 0                       #snapshot to be analised\n",
    "dir_snap = z_dict.get(z_snap)\n",
    "\n",
    "#Labels of the columns of the data frames. First we assign preliminary labels 'col'; then we select specific \n",
    "#columns and assign the definitive labels listed in cat_labels\n",
    "cnames = []\n",
    "for i in range(1,35):\n",
    "    cnames.append('col'+str(i))\n",
    "\n",
    "#The columns we select are \n",
    "# M200c : 3rd\n",
    "# R200c : 6th\n",
    "# Rs    : 7th\n",
    "# X     : 9th\n",
    "# Y     : 10th\n",
    "# Z     : 11th\n",
    "# PID   : 34th\n",
    "cat_labels = ['M200c [Msun/h]','R200c [kpc/h]','Rs [kpc/h]','X [Mpc/h]','Y [Mpc/h]','Z [Mpc/h]','PID']\n",
    "\n",
    "#dataframes with the ROCKSTAR catalogs\n",
    "print 'Analysing snapshot: z = ', z_snap\n",
    "\n",
    "lcdm_path = '/home/ealmaraz/software/rockstar/lcdm/bfbdev3/part1024_lbox500/r_00001'       \n",
    "\n",
    "print 'LCDM - File to be analised: '\n",
    "if dir_snap < 10:\n",
    "    fname = lcdm_path+'/output_0000'+str(dir_snap)+'/parents.dat'\n",
    "    print fname\n",
    "else:\n",
    "    fname = lcdm_path+'/output_000'+str(dir_snap)+'/parents.dat'\n",
    "    print fname\n",
    "\n",
    "#We import the data and remove the headers       \n",
    "lcdm_cat = pd.read_table(fname,sep=\"\\s+\",skiprows=14)\n",
    "#We reset the index of the data frames  \n",
    "lcdm_cat = lcdm_cat.reset_index()    \n",
    "#We assign the provisional labels to the columns\n",
    "lcdm_cat.columns=cnames\n",
    "#We select the columns of our interest and assign the definitive labels\n",
    "lcdm_cat = lcdm_cat[['col3','col6','col7','col9','col10','col11','col34']]\n",
    "lcdm_cat.columns = cat_labels\n",
    "#We get rid of the subhaloes (the parent haloes have PID = -1)\n",
    "lcdm_cat = lcdm_cat[lcdm_cat['PID']== -1]\n",
    "\n",
    "#This is the number of parent haloes found in the catalogs\n",
    "print 'The dataset has {} parent haloes'.format(len(lcdm_cat))    \n",
    "                               \n",
    "lcdm_cat.head()"
   ]
  },
  {
   "cell_type": "markdown",
   "metadata": {},
   "source": [
    "### i) Cálculo de la función de masa (acumulada) de halos $$n(>M)$$"
   ]
  },
  {
   "cell_type": "code",
   "execution_count": 3,
   "metadata": {
    "collapsed": false
   },
   "outputs": [
    {
     "name": "stdout",
     "output_type": "stream",
     "text": [
      "We are analysing 416171 parent haloes\n"
     ]
    },
    {
     "data": {
      "text/html": [
       "<div>\n",
       "<table border=\"1\" class=\"dataframe\">\n",
       "  <thead>\n",
       "    <tr style=\"text-align: right;\">\n",
       "      <th></th>\n",
       "      <th>log_10(M200c)</th>\n",
       "      <th>counts</th>\n",
       "      <th>n(&gt;M)</th>\n",
       "    </tr>\n",
       "  </thead>\n",
       "  <tbody>\n",
       "    <tr>\n",
       "      <th>0</th>\n",
       "      <td>12.112786</td>\n",
       "      <td>156248</td>\n",
       "      <td>3.329368e-03</td>\n",
       "    </tr>\n",
       "    <tr>\n",
       "      <th>1</th>\n",
       "      <td>12.350270</td>\n",
       "      <td>100719</td>\n",
       "      <td>2.079384e-03</td>\n",
       "    </tr>\n",
       "    <tr>\n",
       "      <th>2</th>\n",
       "      <td>12.587754</td>\n",
       "      <td>63949</td>\n",
       "      <td>1.273632e-03</td>\n",
       "    </tr>\n",
       "    <tr>\n",
       "      <th>3</th>\n",
       "      <td>12.825238</td>\n",
       "      <td>40176</td>\n",
       "      <td>7.620400e-04</td>\n",
       "    </tr>\n",
       "    <tr>\n",
       "      <th>4</th>\n",
       "      <td>13.062721</td>\n",
       "      <td>23948</td>\n",
       "      <td>4.406320e-04</td>\n",
       "    </tr>\n",
       "    <tr>\n",
       "      <th>5</th>\n",
       "      <td>13.300205</td>\n",
       "      <td>14340</td>\n",
       "      <td>2.490480e-04</td>\n",
       "    </tr>\n",
       "    <tr>\n",
       "      <th>6</th>\n",
       "      <td>13.537689</td>\n",
       "      <td>8192</td>\n",
       "      <td>1.343280e-04</td>\n",
       "    </tr>\n",
       "    <tr>\n",
       "      <th>7</th>\n",
       "      <td>13.775173</td>\n",
       "      <td>4566</td>\n",
       "      <td>6.879200e-05</td>\n",
       "    </tr>\n",
       "    <tr>\n",
       "      <th>8</th>\n",
       "      <td>14.012657</td>\n",
       "      <td>2309</td>\n",
       "      <td>3.226400e-05</td>\n",
       "    </tr>\n",
       "    <tr>\n",
       "      <th>9</th>\n",
       "      <td>14.250141</td>\n",
       "      <td>1064</td>\n",
       "      <td>1.379200e-05</td>\n",
       "    </tr>\n",
       "    <tr>\n",
       "      <th>10</th>\n",
       "      <td>14.487625</td>\n",
       "      <td>445</td>\n",
       "      <td>5.280000e-06</td>\n",
       "    </tr>\n",
       "    <tr>\n",
       "      <th>11</th>\n",
       "      <td>14.725109</td>\n",
       "      <td>162</td>\n",
       "      <td>1.720000e-06</td>\n",
       "    </tr>\n",
       "    <tr>\n",
       "      <th>12</th>\n",
       "      <td>14.962593</td>\n",
       "      <td>45</td>\n",
       "      <td>4.240000e-07</td>\n",
       "    </tr>\n",
       "    <tr>\n",
       "      <th>13</th>\n",
       "      <td>15.200077</td>\n",
       "      <td>8</td>\n",
       "      <td>6.400000e-08</td>\n",
       "    </tr>\n",
       "  </tbody>\n",
       "</table>\n",
       "</div>"
      ],
      "text/plain": [
       "    log_10(M200c)  counts         n(>M)\n",
       "0       12.112786  156248  3.329368e-03\n",
       "1       12.350270  100719  2.079384e-03\n",
       "2       12.587754   63949  1.273632e-03\n",
       "3       12.825238   40176  7.620400e-04\n",
       "4       13.062721   23948  4.406320e-04\n",
       "5       13.300205   14340  2.490480e-04\n",
       "6       13.537689    8192  1.343280e-04\n",
       "7       13.775173    4566  6.879200e-05\n",
       "8       14.012657    2309  3.226400e-05\n",
       "9       14.250141    1064  1.379200e-05\n",
       "10      14.487625     445  5.280000e-06\n",
       "11      14.725109     162  1.720000e-06\n",
       "12      14.962593      45  4.240000e-07\n",
       "13      15.200077       8  6.400000e-08"
      ]
     },
     "metadata": {},
     "output_type": "display_data"
    }
   ],
   "source": [
    "Np_halo_min = 100.          #minimum number of particles per halo \n",
    "\n",
    "#Here we select the haloes whose number of particles are >= Np_halo_min\n",
    "nltM_cat = lcdm_cat.copy()\n",
    "nltM_cat = nltM_cat[nltM_cat['M200c [Msun/h]']/Mpart >= Np_halo_min]\n",
    "\n",
    "#Here we define the center of the bins (uniform spacing in log10 M) stored in logM\n",
    "nbins = 15                              #number of bins in the M axis\n",
    "fp    = math.log10(Np_halo_min*Mpart)   #lower bound of the first bin: effective resolution in M\n",
    "lp    = math.log10(Mmax)                #upper bound of the last bin\n",
    "ebins = np.linspace(fp,lp,num=nbins+1,endpoint=True)\n",
    "dbin  = (lp-fp)/nbins                   #bin width\n",
    "logM  = np.zeros(nbins)\n",
    "for i in range(0,nbins):\n",
    "    logM[i]=(fp+dbin/2)+i*dbin              \n",
    "                   \n",
    "wbin = range(1,nbins+1)                 #this label tell us to which bin one halo belongs to\n",
    "\n",
    "nltM_counts = {}             \n",
    "nltM_counts[0] = logM\n",
    "\n",
    "#Here we make the bin partition, that is, we determine the number of counts in each bin\n",
    "nltM_cat['log_10(M200c)'] = nltM_cat['M200c [Msun/h]'].apply(np.log10)\n",
    "nltM_cat['bin range'] = pd.cut(nltM_cat['log_10(M200c)'],ebins)\n",
    "nltM_cat['which bin'] = pd.cut(nltM_cat['log_10(M200c)'],ebins,labels=wbin)     \n",
    "nltM_counts[1]=pd.value_counts(nltM_cat['which bin'],sort=False).values   \n",
    "\n",
    "     \n",
    "#Here we colect all the info and construct the data frames\n",
    "nltM_counts_df = pd.DataFrame(data=nltM_counts)\n",
    "nltM_counts_df.columns=['log_10(M200c)','counts'] \n",
    "\n",
    "#Truncamos el data frame a partir del primer renglon en donde no encontramos halos\n",
    "for i in range (0,nbins):\n",
    "    if nltM_counts_df['counts'][i] == 0:\n",
    "        break \n",
    "nltM_counts_df = nltM_counts_df.truncate(after=i-1)\n",
    "\n",
    "#Once we have the number of counts for each logM bin the calculation of n(>M) is straightforward. \n",
    "#First we reverse the order of the elements of nltM_counts_df arrays. Then we calculate the cumulative sum. Note that the \n",
    "#value of the cumulative sum for the i-th bin not only takes into account the number of counts of the previous bins but \n",
    "#also it includes the number of counts of the i-th bin itself. Finally we reverse once again the order of the arrays and \n",
    "#divide everything by the volume of the box\n",
    "cum = np.flipud(nltM_counts_df.ix[:,1]);   cum = np.cumsum(cum);    cum = np.flipud(cum)\n",
    "nltM_counts_df['n(>M)'] = cum/(Lbox**3)\n",
    "\n",
    "#This is the number of haloes we are analysing\n",
    "print 'We are analysing {} parent haloes'.format(cum[0])    \n",
    "    \n",
    "display(nltM_counts_df)  "
   ]
  },
  {
   "cell_type": "code",
   "execution_count": 4,
   "metadata": {
    "collapsed": false
   },
   "outputs": [
    {
     "data": {
      "image/png": "[encoded data removed]",
      "text/plain": [
       "<matplotlib.figure.Figure at 0x2ba8e90a9650>"
      ]
     },
     "metadata": {},
     "output_type": "display_data"
    }
   ],
   "source": [
    "fig = plt.figure()\n",
    "fig.suptitle('funcion de masa de halo en $z=$'+str(z_snap),fontsize=12)\n",
    "\n",
    "plt.scatter(10**nltM_counts_df['log_10(M200c)'],nltM_counts_df['n(>M)'],c='blue',marker='*')\n",
    "\n",
    "plt.xlabel('$M_{200c}$ $[M_\\odot/h]$',fontsize=17)\n",
    "plt.xscale('log')\n",
    "plt.xlim([1.e12,3e15])\n",
    "\n",
    "plt.ylabel('$n(>M)$  $[h^3 \\cdot Mpc^{-3}]$',fontsize=15)\n",
    "plt.ylim([1.e-8,1.e-2])\n",
    "plt.yticks(fontsize=11)\n",
    "plt.yscale('log')"
   ]
  },
  {
   "cell_type": "markdown",
   "metadata": {},
   "source": [
    "### ii) Cálculo del parámetro de concentración $$c_{200} = \\frac{R_{200}}{R_s}$$"
   ]
  },
  {
   "cell_type": "code",
   "execution_count": 5,
   "metadata": {
    "collapsed": false
   },
   "outputs": [
    {
     "name": "stdout",
     "output_type": "stream",
     "text": [
      "We are analysing 48980 haloes\n"
     ]
    },
    {
     "data": {
      "text/html": [
       "<div>\n",
       "<table border=\"1\" class=\"dataframe\">\n",
       "  <thead>\n",
       "    <tr style=\"text-align: right;\">\n",
       "      <th></th>\n",
       "      <th>log_10(M200c)</th>\n",
       "      <th>counts</th>\n",
       "      <th>c200</th>\n",
       "    </tr>\n",
       "  </thead>\n",
       "  <tbody>\n",
       "    <tr>\n",
       "      <th>0</th>\n",
       "      <td>13.122157</td>\n",
       "      <td>22815</td>\n",
       "      <td>5.750011</td>\n",
       "    </tr>\n",
       "    <tr>\n",
       "      <th>1</th>\n",
       "      <td>13.378383</td>\n",
       "      <td>12938</td>\n",
       "      <td>5.407158</td>\n",
       "    </tr>\n",
       "    <tr>\n",
       "      <th>2</th>\n",
       "      <td>13.634608</td>\n",
       "      <td>7022</td>\n",
       "      <td>5.093080</td>\n",
       "    </tr>\n",
       "    <tr>\n",
       "      <th>3</th>\n",
       "      <td>13.890834</td>\n",
       "      <td>3575</td>\n",
       "      <td>4.815726</td>\n",
       "    </tr>\n",
       "    <tr>\n",
       "      <th>4</th>\n",
       "      <td>14.147060</td>\n",
       "      <td>1660</td>\n",
       "      <td>4.544961</td>\n",
       "    </tr>\n",
       "    <tr>\n",
       "      <th>5</th>\n",
       "      <td>14.403286</td>\n",
       "      <td>651</td>\n",
       "      <td>4.182110</td>\n",
       "    </tr>\n",
       "    <tr>\n",
       "      <th>6</th>\n",
       "      <td>14.659512</td>\n",
       "      <td>244</td>\n",
       "      <td>4.074585</td>\n",
       "    </tr>\n",
       "    <tr>\n",
       "      <th>7</th>\n",
       "      <td>14.915738</td>\n",
       "      <td>67</td>\n",
       "      <td>3.649446</td>\n",
       "    </tr>\n",
       "    <tr>\n",
       "      <th>8</th>\n",
       "      <td>15.171964</td>\n",
       "      <td>8</td>\n",
       "      <td>3.542797</td>\n",
       "    </tr>\n",
       "  </tbody>\n",
       "</table>\n",
       "</div>"
      ],
      "text/plain": [
       "   log_10(M200c)  counts      c200\n",
       "0      13.122157   22815  5.750011\n",
       "1      13.378383   12938  5.407158\n",
       "2      13.634608    7022  5.093080\n",
       "3      13.890834    3575  4.815726\n",
       "4      14.147060    1660  4.544961\n",
       "5      14.403286     651  4.182110\n",
       "6      14.659512     244  4.074585\n",
       "7      14.915738      67  3.649446\n",
       "8      15.171964       8  3.542797"
      ]
     },
     "metadata": {},
     "output_type": "display_data"
    }
   ],
   "source": [
    "Np_halo_min = 1000.          #minimum number of particles per halo \n",
    "\n",
    "#Here we select the haloes whose number of particles are >= Np_halo_min\n",
    "c200_cat = lcdm_cat.copy()\n",
    "c200_cat = c200_cat[c200_cat['M200c [Msun/h]']/Mpart >= Np_halo_min]\n",
    "c200_cat['c200'] = c200_cat['R200c [kpc/h]']/c200_cat['Rs [kpc/h]']                              \n",
    "\n",
    "\n",
    "#Here we define the center of the bins (uniform spacing in log10 M) stored in logM\n",
    "nbins = 10                              #number of bins in the M axis\n",
    "fp    = math.log10(Np_halo_min*Mpart)   #lower bound of the first bin: effective resolution in M\n",
    "lp    = math.log10(Mmax)                #upper bound of the last bin\n",
    "ebins = np.linspace(fp,lp,num=nbins+1,endpoint=True)\n",
    "dbin  = (lp-fp)/nbins                   #bin width\n",
    "logM  = np.zeros(nbins)\n",
    "for i in range(0,nbins):\n",
    "    logM[i]=(fp+dbin/2)+i*dbin              \n",
    "                   \n",
    "wbin = range(1,nbins+1)                 #this label tell us to which bin one halo belongs to\n",
    "\n",
    "c200_counts = {}             \n",
    "c200_counts[0] = logM\n",
    "\n",
    "#Here we make the bin partition, that is, we determine the number of counts in each bin\n",
    "c200_cat['log_10(M200c)'] = c200_cat['M200c [Msun/h]'].apply(np.log10)\n",
    "c200_cat['bin range'] = pd.cut(c200_cat['log_10(M200c)'],ebins)\n",
    "c200_cat['which bin'] = pd.cut(c200_cat['log_10(M200c)'],ebins,labels=wbin)  \n",
    "c200_counts[1]=pd.value_counts(c200_cat['which bin'],sort=False).values   \n",
    "c200_counts[2]=c200_cat.groupby('which bin').mean()['c200'].values\n",
    "\n",
    "\n",
    "#Here we colect all the info and construct the data frames\n",
    "c200_counts_df = pd.DataFrame(data=c200_counts)\n",
    "c200_counts_df.columns=['log_10(M200c)','counts','c200'] \n",
    "\n",
    "#Truncamos el data frame a partir del primer renglon en donde no encontramos halos\n",
    "for i in range (0,nbins):\n",
    "    if c200_counts_df['counts'][i] == 0:\n",
    "        break \n",
    "c200_counts_df = c200_counts_df.truncate(after=i-1)\n",
    "\n",
    "#This is the number of haloes we are analysing\n",
    "total_haloes = np.cumsum(c200_counts_df['counts']).iloc[-1]                        \n",
    "print 'We are analysing {} haloes'.format(total_haloes)    \n",
    "                        \n",
    "display(c200_counts_df)"
   ]
  },
  {
   "cell_type": "code",
   "execution_count": 6,
   "metadata": {
    "collapsed": false
   },
   "outputs": [
    {
     "data": {
      "text/plain": [
       "<matplotlib.text.Text at 0x2ba8ea342590>"
      ]
     },
     "execution_count": 6,
     "metadata": {},
     "output_type": "execute_result"
    },
    {
     "data": {
      "image/png": "[encoded data removed]",
      "text/plain": [
       "<matplotlib.figure.Figure at 0x2ba8ea72b850>"
      ]
     },
     "metadata": {},
     "output_type": "display_data"
    }
   ],
   "source": [
    "fig = plt.figure()\n",
    "\n",
    "fig.suptitle('parametro de concentracion en $z=$'+str(z_snap),fontsize=12)\n",
    "plt.scatter(10**c200_counts_df['log_10(M200c)'],c200_counts_df['c200'],c='blue',marker='*')\n",
    "\n",
    "plt.xlabel('$M_{200c}$ $[M_\\odot/h]$',fontsize=17)\n",
    "plt.xlim([1.e13,2.e15])\n",
    "plt.xscale('log')\n",
    "\n",
    "plt.ylim([2.7,6.])\n",
    "plt.ylabel('$c_{200}$',fontsize=15)"
   ]
  },
  {
   "cell_type": "code",
   "execution_count": null,
   "metadata": {
    "collapsed": true
   },
   "outputs": [],
   "source": []
  }
 ],
 "metadata": {
  "kernelspec": {
   "display_name": "Python 2",
   "language": "python",
   "name": "python2"
  },
  "language_info": {
   "codemirror_mode": {
    "name": "ipython",
    "version": 2
   },
   "file_extension": ".py",
   "mimetype": "text/x-python",
   "name": "python",
   "nbconvert_exporter": "python",
   "pygments_lexer": "ipython2",
   "version": "2.7.13"
  }
 },
 "nbformat": 4,
 "nbformat_minor": 2
}
